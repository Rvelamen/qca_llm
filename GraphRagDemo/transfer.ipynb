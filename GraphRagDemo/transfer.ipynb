{
 "cells": [
  {
   "cell_type": "code",
   "execution_count": 1,
   "metadata": {},
   "outputs": [
    {
     "name": "stdout",
     "output_type": "stream",
     "text": [
      "Converted ./output/20240727-225047/artifacts\\create_base_documents.parquet to ./csv\\create_base_documents.csv successfully.\n",
      "Converted ./output/20240727-225047/artifacts\\create_base_entity_graph.parquet to ./csv\\create_base_entity_graph.csv successfully.\n",
      "Converted ./output/20240727-225047/artifacts\\create_base_extracted_entities.parquet to ./csv\\create_base_extracted_entities.csv successfully.\n",
      "Converted ./output/20240727-225047/artifacts\\create_base_text_units.parquet to ./csv\\create_base_text_units.csv successfully.\n",
      "Converted ./output/20240727-225047/artifacts\\create_final_communities.parquet to ./csv\\create_final_communities.csv successfully.\n",
      "Converted ./output/20240727-225047/artifacts\\create_final_community_reports.parquet to ./csv\\create_final_community_reports.csv successfully.\n",
      "Converted ./output/20240727-225047/artifacts\\create_final_documents.parquet to ./csv\\create_final_documents.csv successfully.\n",
      "Converted ./output/20240727-225047/artifacts\\create_final_entities.parquet to ./csv\\create_final_entities.csv successfully.\n",
      "Converted ./output/20240727-225047/artifacts\\create_final_nodes.parquet to ./csv\\create_final_nodes.csv successfully.\n",
      "Converted ./output/20240727-225047/artifacts\\create_final_relationships.parquet to ./csv\\create_final_relationships.csv successfully.\n",
      "Converted ./output/20240727-225047/artifacts\\create_final_text_units.parquet to ./csv\\create_final_text_units.csv successfully.\n",
      "Converted ./output/20240727-225047/artifacts\\create_summarized_entities.parquet to ./csv\\create_summarized_entities.csv successfully.\n",
      "Converted ./output/20240727-225047/artifacts\\join_text_units_to_entity_ids.parquet to ./csv\\join_text_units_to_entity_ids.csv successfully.\n",
      "Converted ./output/20240727-225047/artifacts\\join_text_units_to_relationship_ids.parquet to ./csv\\join_text_units_to_relationship_ids.csv successfully.\n",
      "All Parquet files have been converted to CSV.\n"
     ]
    }
   ],
   "source": [
    "import os\n",
    "import pandas as pd\n",
    "import csv\n",
    "import re\n",
    "\n",
    "import unicodedata\n",
    "\n",
    "# Define the directory containing Parquet files\n",
    "parquet_dir = './output/20240727-225047/artifacts'\n",
    "csv_dir = './csv'\n",
    "\n",
    "# Function to clean and properly format the string fields\n",
    "def clean_quotes(value):\n",
    "    \n",
    "    if isinstance(value, str):\n",
    "        # if value.startswith('\"\\u5c0f\\u9f99\\u4e0e\\u5996\\u9b54\\u5728\\u94f6'):\n",
    "        #     print(value)\n",
    "        \n",
    "        # Convert Unicode escape sequences to Chinese characters\n",
    "        def replace_unicode(match):\n",
    "            unicode_str = match.group(1)\n",
    "            try:\n",
    "                return unicode_str.encode('utf-8').decode('unicode_escape')\n",
    "            except UnicodeDecodeError:\n",
    "                return match.group(0)\n",
    "        \n",
    "        value = re.sub(r'(\\\\u[0-9a-fA-F]{4})', replace_unicode, value)\n",
    "\n",
    "        # Remove extra quotes and strip leading/trailing spaces\n",
    "        value = value.strip().replace('\"\"', '\"').replace('\"', '')\n",
    "        \n",
    "        # Ensure proper quoting for fields with commas or quotes\n",
    "        if ',' in value or '\"' in value:\n",
    "            value = f'\"{value}\"'\n",
    "\n",
    "        if value.endswith('\\\\'):\n",
    "            value = value[:-1]\n",
    "\n",
    "    return value\n",
    "\n",
    "# Convert all Parquet files to CSV\n",
    "for file_name in os.listdir(parquet_dir):\n",
    "    if file_name.endswith('.parquet'):\n",
    "        parquet_file = os.path.join(parquet_dir, file_name)\n",
    "        csv_file = os.path.join(csv_dir, file_name.replace('.parquet', '.csv'))\n",
    "        \n",
    "        # Load the Parquet file\n",
    "        df = pd.read_parquet(parquet_file)\n",
    "        \n",
    "        # Clean quotes in string fields\n",
    "        for column in df.select_dtypes(include=['object']).columns:\n",
    "            df[column] = df[column].apply(clean_quotes)\n",
    "        \n",
    "        # Save to CSV\n",
    "        df.to_csv(csv_file, index=False, quoting=csv.QUOTE_NONNUMERIC, encoding='utf-8')\n",
    "        print(f\"Converted {parquet_file} to {csv_file} successfully.\")\n",
    "\n",
    "print(\"All Parquet files have been converted to CSV.\")"
   ]
  },
  {
   "cell_type": "code",
   "execution_count": null,
   "metadata": {},
   "outputs": [],
   "source": []
  }
 ],
 "metadata": {
  "kernelspec": {
   "display_name": "llm_st",
   "language": "python",
   "name": "python3"
  },
  "language_info": {
   "codemirror_mode": {
    "name": "ipython",
    "version": 3
   },
   "file_extension": ".py",
   "mimetype": "text/x-python",
   "name": "python",
   "nbconvert_exporter": "python",
   "pygments_lexer": "ipython3",
   "version": "3.11.0"
  }
 },
 "nbformat": 4,
 "nbformat_minor": 2
}
